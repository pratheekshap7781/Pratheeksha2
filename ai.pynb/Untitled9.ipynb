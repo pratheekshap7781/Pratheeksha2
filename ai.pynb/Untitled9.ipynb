{
 "cells": [
  {
   "cell_type": "code",
   "execution_count": 1,
   "id": "da6b0b64-1c57-4406-bcdb-d5555f20cdf0",
   "metadata": {},
   "outputs": [
    {
     "name": "stdout",
     "output_type": "stream",
     "text": [
      "Frequent Itemsets:\n",
      "    support         itemsets\n",
      "0  0.833333          (Bread)\n",
      "1  0.833333         (Butter)\n",
      "2  0.666667           (Milk)\n",
      "3  0.666667  (Bread, Butter)\n",
      "4  0.500000    (Bread, Milk)\n",
      "5  0.500000   (Milk, Butter)\n",
      "\n",
      "Association Rules:\n",
      "  antecedents consequents   support  confidence  lift\n",
      "0     (Bread)    (Butter)  0.666667        0.80  0.96\n",
      "1    (Butter)     (Bread)  0.666667        0.80  0.96\n",
      "2      (Milk)     (Bread)  0.500000        0.75  0.90\n",
      "3      (Milk)    (Butter)  0.500000        0.75  0.90\n"
     ]
    }
   ],
   "source": [
    "from mlxtend.frequent_patterns import apriori, association_rules\n",
    "import pandas as pd\n",
    "\n",
    "# Sample transaction dataset\n",
    "dataset = [\n",
    "    ['Milk', 'Bread', 'Butter'],\n",
    "    ['Milk', 'Bread'],\n",
    "    ['Milk', 'Butter'],\n",
    "    ['Bread', 'Butter'],\n",
    "    ['Milk', 'Bread', 'Butter', 'Eggs'],\n",
    "    ['Bread', 'Butter', 'Eggs']\n",
    "]\n",
    "\n",
    "# Convert transactions into a DataFrame\n",
    "items = sorted(set(item for transaction in dataset for item in transaction))\n",
    "encoded_vals = []\n",
    "for transaction in dataset:\n",
    "    encoded_vals.append({item: (item in transaction) for item in items})\n",
    "\n",
    "df = pd.DataFrame(encoded_vals)\n",
    "\n",
    "# Apply Apriori algorithm\n",
    "frequent_itemsets = apriori(df, min_support=0.5, use_colnames=True)\n",
    "\n",
    "# Generate association rules\n",
    "rules = association_rules(frequent_itemsets, metric=\"confidence\", min_threshold=0.7)\n",
    "\n",
    "# Print frequent itemsets\n",
    "print(\"Frequent Itemsets:\")\n",
    "print(frequent_itemsets)\n",
    "\n",
    "# Print association rules\n",
    "print(\"\\nAssociation Rules:\")\n",
    "print(rules[['antecedents', 'consequents', 'support', 'confidence', 'lift']])\n"
   ]
  },
  {
   "cell_type": "code",
   "execution_count": null,
   "id": "84b6ca8c-0751-4ce9-9347-0c1fabd03992",
   "metadata": {},
   "outputs": [],
   "source": []
  }
 ],
 "metadata": {
  "kernelspec": {
   "display_name": "Python 3 (ipykernel)",
   "language": "python",
   "name": "python3"
  },
  "language_info": {
   "codemirror_mode": {
    "name": "ipython",
    "version": 3
   },
   "file_extension": ".py",
   "mimetype": "text/x-python",
   "name": "python",
   "nbconvert_exporter": "python",
   "pygments_lexer": "ipython3",
   "version": "3.8.10"
  }
 },
 "nbformat": 4,
 "nbformat_minor": 5
}
